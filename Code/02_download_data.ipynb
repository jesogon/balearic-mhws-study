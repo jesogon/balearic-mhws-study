{
 "cells": [
  {
   "cell_type": "markdown",
   "id": "dcfc4b7a",
   "metadata": {},
   "source": [
    "# <h1 style=\"text-align: center;\"> Data downloading notebook </h1>"
   ]
  },
  {
   "cell_type": "markdown",
   "id": "3bfd7acb",
   "metadata": {},
   "source": [
    "This Python notebook downloads data needed to run the code as used during the master thesis."
   ]
  },
  {
   "cell_type": "markdown",
   "id": "b2028456",
   "metadata": {},
   "source": [
    "## Setup"
   ]
  },
  {
   "cell_type": "code",
   "execution_count": 1,
   "id": "a4fc3703",
   "metadata": {},
   "outputs": [
    {
     "name": "stderr",
     "output_type": "stream",
     "text": [
      "/home/arthur/.local/lib/python3.10/site-packages/tqdm/auto.py:21: TqdmWarning: IProgress not found. Please update jupyter and ipywidgets. See https://ipywidgets.readthedocs.io/en/stable/user_install.html\n",
      "  from .autonotebook import tqdm as notebook_tqdm\n"
     ]
    }
   ],
   "source": [
    "# Basic imports\n",
    "import os\n",
    "import getpass\n",
    "\n",
    "# Advanced imports\n",
    "import copernicusmarine"
   ]
  },
  {
   "cell_type": "markdown",
   "id": "dbecad20",
   "metadata": {},
   "source": [
    "A Copernicus Marine Service account is needed to download subsets of datasets.\n",
    "Please create one at https://data.marine.copernicus.eu/ before executing the next cell."
   ]
  },
  {
   "cell_type": "code",
   "execution_count": 2,
   "id": "5b1baedc",
   "metadata": {},
   "outputs": [
    {
     "name": "stdout",
     "output_type": "stream",
     "text": [
      "Username and password have been set as environment variables.\n"
     ]
    }
   ],
   "source": [
    "# Set credentials \n",
    "USERNAME_COPERNICUS = username = input(\"Enter username: \")\n",
    "PASSWORD_COPERNICUS = getpass.getpass(\"Enter password: \")\n",
    "\n",
    "os.environ[\"USERNAME_COPERNICUS\"] = USERNAME_COPERNICUS\n",
    "os.environ[\"PASSWORD_COPERNICUS\"] = PASSWORD_COPERNICUS\n",
    "\n",
    "print(\"Username and password have been set as environment variables.\")"
   ]
  },
  {
   "cell_type": "code",
   "execution_count": 3,
   "id": "9e79af92",
   "metadata": {},
   "outputs": [],
   "source": [
    "# Credentials on the Copernicus Marine Service platform\n",
    "credentials = {\n",
    "    'username': os.getenv(\"USERNAME_COPERNICUS\"),\n",
    "    'password': os.getenv(\"PASSWORD_COPERNICUS\"),\n",
    "}"
   ]
  },
  {
   "cell_type": "code",
   "execution_count": 4,
   "id": "6e54e72d",
   "metadata": {},
   "outputs": [],
   "source": [
    "# Spatial extent considered here\n",
    "spatial_extent = {\n",
    "    'minimum_longitude': -0.9,\n",
    "    'maximum_longitude': 5.1,\n",
    "    'minimum_latitude': 37.6,\n",
    "    'maximum_latitude': 41.1,\n",
    "    'minimum_depth': 0,\n",
    "    'maximum_depth': 3000,\n",
    "}"
   ]
  },
  {
   "cell_type": "code",
   "execution_count": 5,
   "id": "a9126dd0",
   "metadata": {},
   "outputs": [],
   "source": [
    "# Path of Data folder\n",
    "datos_dir = '../Data/'\n",
    "\n",
    "# Path of REP files\n",
    "rep_pattern = datos_dir + 'REP/MEDITERRANEAN/SST-L4-REP-HR/DATA-NEW/DAILY/{year}/SST_MED_SST_L4_REP_OBSERVATIONS_010_021_y{year}m{monthstr}.nc'\n",
    "\n",
    "# Path of MEDREA files\n",
    "medrea_pattern = datos_dir + 'MEDREA/MEDITERRANEAN/REANALYSIS/DATA/DAILY/BalearicIslands/{year}/TEMP_MEDSEA_MULTIYEAR_PHY_006_004_y{year}m{monthstr}_BalearicIslands.nc'\n",
    "\n",
    "# Path of MEDREA bathymetry file\n",
    "medrea_bathy_path = datos_dir + 'bathymetry/Bathymetry_MEDREA_006_004_mask_bathy_BalearicIslands.nc'"
   ]
  },
  {
   "cell_type": "code",
   "execution_count": 6,
   "id": "71788e63",
   "metadata": {},
   "outputs": [
    {
     "name": "stderr",
     "output_type": "stream",
     "text": [
      "Fetching catalogue 1: 100%|██████████| 2/2 [00:00<00:00,  2.87it/s]\n"
     ]
    },
    {
     "name": "stdout",
     "output_type": "stream",
     "text": [
      "products=[CopernicusMarineProduct(title='Mediterranean Sea - High Resolution L4 Sea Surface Temperature Reprocessed', product_id='SST_MED_SST_L4_REP_OBSERVATIONS_010_021', thumbnail_url='https://mdl-metadata.s3.waw3-1.cloudferro.com/metadata/thumbnails/SST_MED_SST_L4_REP_OBSERVATIONS_010_021.jpg', description='The Reprocessed (REP) Mediterranean (MED) dataset provides a stable and consistent long-term Sea Surface Temperature (SST) time series over the Mediterranean Sea (and the adjacent North Atlantic box) developed for climate applications. This product consists of daily (nighttime), optimally interpolated (L4), satellite-based estimates of the foundation SST (namely, the temperature free, or nearly-free, of any diurnal cycle) at 0.05° resolution grid covering the period from 1st January 1981 to present (approximately one month before real time). The MED-REP-L4 product is built from a consistent reprocessing of the collated level-3 (merged single-sensor, L3C) climate data record (CDR) v.3.0, provided by the ESA Climate Change Initiative (CCI) and covering the period up to 2021, and its interim extension (ICDR) that allows the regular temporal extension for 2022 onwards. \\n\\n**DOI (product):**   \\nhttps://doi.org/10.48670/moi-00173\\n\\n**References:**\\n\\n* Pisano, A., Nardelli, B. B., Tronconi, C., & Santoleri, R. (2016). The new Mediterranean optimally interpolated pathfinder AVHRR SST Dataset (1982–2012). Remote Sensing of Environment, 176, 107-116. doi: https://doi.org/10.1016/j.rse.2016.01.019\\n* Embury, O., Merchant, C.J., Good, S.A., Rayner, N.A., Høyer, J.L., Atkinson, C., Block, T., Alerskans, E., Pearson, K.J., Worsfold, M., McCarroll, N., Donlon, C., (2024). Satellite-based time-series of sea-surface temperature since 1980 for climate applications. Sci Data 11, 326. doi: https://doi.org/10.1038/s41597-024-03147-w\\n', digital_object_identifier='10.48670/moi-00173', sources=['Satellite observations'], processing_level='Level 4', production_center='CNR (Italy)', keywords=['oceanographic-geographical-features', 'satellite-observation', 'sea-surface-temperature', 'multi-year', 'marine-safety', 'weather-climate-and-seasonal-forecasting', 'marine-resources', 'coastal-marine-environment', 'mediterranean-sea', 'level-4'], datasets=[CopernicusMarineDataset(dataset_id='cmems_SST_MED_SST_L4_REP_OBSERVATIONS_010_021', dataset_name='Mediterranean Sea SST Analysis L4, Reprocessed using ESA CCI SST v.3.0 and PFV53 data, 0.05 deg. daily (cmems_SST_MED_SST_L4_REP_OBSERVATIONS_010_021)', digital_object_identifier='10.48670/moi-00173', versions=[CopernicusMarineVersion(label='202411', parts=[CopernicusMarinePart(name='default', services=[CopernicusMarineService(service_name='original-files', service_short_name='files', service_format=None, uri='https://s3.waw3-1.cloudferro.com/mdl-native-06/native/SST_MED_SST_L4_REP_OBSERVATIONS_010_021/cmems_SST_MED_SST_L4_REP_OBSERVATIONS_010_021_202411', variables=[CopernicusMarineVariable(short_name='analysed_sst', standard_name='sea_surface_temperature', units='kelvin', bbox=[-18.125, 30.125, 36.32500076293945, 46.025001525878906], coordinates=[]), CopernicusMarineVariable(short_name='analysis_error', standard_name=None, units='kelvin', bbox=[-18.125, 30.125, 36.32500076293945, 46.025001525878906], coordinates=[]), CopernicusMarineVariable(short_name='mask', standard_name=None, units='1', bbox=[-18.125, 30.125, 36.32500076293945, 46.025001525878906], coordinates=[]), CopernicusMarineVariable(short_name='sea_ice_fraction', standard_name='sea_ice_area_fraction', units='1', bbox=[-18.125, 30.125, 36.32500076293945, 46.025001525878906], coordinates=[])], platforms_metadata=None), CopernicusMarineService(service_name='wmts', service_short_name='wmts', service_format=None, uri='https://wmts.marine.copernicus.eu/teroWmts/SST_MED_SST_L4_REP_OBSERVATIONS_010_021/cmems_SST_MED_SST_L4_REP_OBSERVATIONS_010_021_202411?service=WMTS&request=GetCapabilities', variables=[CopernicusMarineVariable(short_name='analysed_sst', standard_name='sea_surface_temperature', units='kelvin', bbox=[-18.125, 30.125, 36.32500076293945, 46.025001525878906], coordinates=[]), CopernicusMarineVariable(short_name='analysis_error', standard_name=None, units='kelvin', bbox=[-18.125, 30.125, 36.32500076293945, 46.025001525878906], coordinates=[]), CopernicusMarineVariable(short_name='mask', standard_name=None, units='1', bbox=[-18.125, 30.125, 36.32500076293945, 46.025001525878906], coordinates=[]), CopernicusMarineVariable(short_name='sea_ice_fraction', standard_name='sea_ice_area_fraction', units='1', bbox=[-18.125, 30.125, 36.32500076293945, 46.025001525878906], coordinates=[])], platforms_metadata=None), CopernicusMarineService(service_name='arco-geo-series', service_short_name='geoseries', service_format='zarr', uri='https://s3.waw3-1.cloudferro.com/mdl-arco-time-046/arco/SST_MED_SST_L4_REP_OBSERVATIONS_010_021/cmems_SST_MED_SST_L4_REP_OBSERVATIONS_010_021_202411/timeChunked.zarr', variables=[CopernicusMarineVariable(short_name='analysed_sst', standard_name='sea_surface_temperature', units='kelvin', bbox=[-18.125, 30.125, 36.32500076293945, 46.025001525878906], coordinates=[CopernicusMarineCoordinate(coordinate_id='time', coordinate_unit='milliseconds since 1970-01-01 00:00:00Z (no leap seconds)', minimum_value=378691200000.0, maximum_value=1756166400000.0, step=86400000.0, values=None, chunking_length=2, chunk_type=None, chunk_reference_coordinate=None, chunk_geometric_factor=None, axis='t'), CopernicusMarineCoordinate(coordinate_id='latitude', coordinate_unit='degrees_north', minimum_value=30.125, maximum_value=46.025001525878906, step=0.05015773352012273, values=None, chunking_length=318, chunk_type=None, chunk_reference_coordinate=None, chunk_geometric_factor=None, axis='y'), CopernicusMarineCoordinate(coordinate_id='longitude', coordinate_unit='degrees_east', minimum_value=-18.125, maximum_value=36.32500076293945, step=0.05004595658358406, values=None, chunking_length=1089, chunk_type=None, chunk_reference_coordinate=None, chunk_geometric_factor=None, axis='x')]), CopernicusMarineVariable(short_name='analysis_error', standard_name=None, units='kelvin', bbox=[-18.125, 30.125, 36.32500076293945, 46.025001525878906], coordinates=[CopernicusMarineCoordinate(coordinate_id='time', coordinate_unit='milliseconds since 1970-01-01 00:00:00Z (no leap seconds)', minimum_value=378691200000.0, maximum_value=1756166400000.0, step=86400000.0, values=None, chunking_length=2, chunk_type=None, chunk_reference_coordinate=None, chunk_geometric_factor=None, axis='t'), CopernicusMarineCoordinate(coordinate_id='latitude', coordinate_unit='degrees_north', minimum_value=30.125, maximum_value=46.025001525878906, step=0.05015773352012273, values=None, chunking_length=318, chunk_type=None, chunk_reference_coordinate=None, chunk_geometric_factor=None, axis='y'), CopernicusMarineCoordinate(coordinate_id='longitude', coordinate_unit='degrees_east', minimum_value=-18.125, maximum_value=36.32500076293945, step=0.05004595658358406, values=None, chunking_length=1089, chunk_type=None, chunk_reference_coordinate=None, chunk_geometric_factor=None, axis='x')]), CopernicusMarineVariable(short_name='mask', standard_name=None, units='1', bbox=[-18.125, 30.125, 36.32500076293945, 46.025001525878906], coordinates=[CopernicusMarineCoordinate(coordinate_id='time', coordinate_unit='milliseconds since 1970-01-01 00:00:00Z (no leap seconds)', minimum_value=378691200000.0, maximum_value=1756166400000.0, step=86400000.0, values=None, chunking_length=2, chunk_type=None, chunk_reference_coordinate=None, chunk_geometric_factor=None, axis='t'), CopernicusMarineCoordinate(coordinate_id='latitude', coordinate_unit='degrees_north', minimum_value=30.125, maximum_value=46.025001525878906, step=0.05015773352012273, values=None, chunking_length=318, chunk_type=None, chunk_reference_coordinate=None, chunk_geometric_factor=None, axis='y'), CopernicusMarineCoordinate(coordinate_id='longitude', coordinate_unit='degrees_east', minimum_value=-18.125, maximum_value=36.32500076293945, step=0.05004595658358406, values=None, chunking_length=1089, chunk_type=None, chunk_reference_coordinate=None, chunk_geometric_factor=None, axis='x')]), CopernicusMarineVariable(short_name='sea_ice_fraction', standard_name='sea_ice_area_fraction', units='1', bbox=[-18.125, 30.125, 36.32500076293945, 46.025001525878906], coordinates=[CopernicusMarineCoordinate(coordinate_id='time', coordinate_unit='milliseconds since 1970-01-01 00:00:00Z (no leap seconds)', minimum_value=378691200000.0, maximum_value=1756166400000.0, step=86400000.0, values=None, chunking_length=2, chunk_type=None, chunk_reference_coordinate=None, chunk_geometric_factor=None, axis='t'), CopernicusMarineCoordinate(coordinate_id='latitude', coordinate_unit='degrees_north', minimum_value=30.125, maximum_value=46.025001525878906, step=0.05015773352012273, values=None, chunking_length=318, chunk_type=None, chunk_reference_coordinate=None, chunk_geometric_factor=None, axis='y'), CopernicusMarineCoordinate(coordinate_id='longitude', coordinate_unit='degrees_east', minimum_value=-18.125, maximum_value=36.32500076293945, step=0.05004595658358406, values=None, chunking_length=1089, chunk_type=None, chunk_reference_coordinate=None, chunk_geometric_factor=None, axis='x')])], platforms_metadata=None), CopernicusMarineService(service_name='arco-time-series', service_short_name='timeseries', service_format='zarr', uri='https://s3.waw3-1.cloudferro.com/mdl-arco-geo-046/arco/SST_MED_SST_L4_REP_OBSERVATIONS_010_021/cmems_SST_MED_SST_L4_REP_OBSERVATIONS_010_021_202411/geoChunked.zarr', variables=[CopernicusMarineVariable(short_name='analysed_sst', standard_name='sea_surface_temperature', units='kelvin', bbox=[-18.125, 30.125, 36.32500076293945, 46.025001525878906], coordinates=[CopernicusMarineCoordinate(coordinate_id='time', coordinate_unit='milliseconds since 1970-01-01 00:00:00Z (no leap seconds)', minimum_value=378691200000.0, maximum_value=1756166400000.0, step=86400000.0, values=None, chunking_length=3122, chunk_type=None, chunk_reference_coordinate=None, chunk_geometric_factor=None, axis='t'), CopernicusMarineCoordinate(coordinate_id='latitude', coordinate_unit='degrees_north', minimum_value=30.125, maximum_value=46.025001525878906, step=0.05015773352012273, values=None, chunking_length=16, chunk_type=None, chunk_reference_coordinate=None, chunk_geometric_factor=None, axis='y'), CopernicusMarineCoordinate(coordinate_id='longitude', coordinate_unit='degrees_east', minimum_value=-18.125, maximum_value=36.32500076293945, step=0.05004595658358406, values=None, chunking_length=16, chunk_type=None, chunk_reference_coordinate=None, chunk_geometric_factor=None, axis='x')]), CopernicusMarineVariable(short_name='analysis_error', standard_name=None, units='kelvin', bbox=[-18.125, 30.125, 36.32500076293945, 46.025001525878906], coordinates=[CopernicusMarineCoordinate(coordinate_id='time', coordinate_unit='milliseconds since 1970-01-01 00:00:00Z (no leap seconds)', minimum_value=378691200000.0, maximum_value=1756166400000.0, step=86400000.0, values=None, chunking_length=3122, chunk_type=None, chunk_reference_coordinate=None, chunk_geometric_factor=None, axis='t'), CopernicusMarineCoordinate(coordinate_id='latitude', coordinate_unit='degrees_north', minimum_value=30.125, maximum_value=46.025001525878906, step=0.05015773352012273, values=None, chunking_length=16, chunk_type=None, chunk_reference_coordinate=None, chunk_geometric_factor=None, axis='y'), CopernicusMarineCoordinate(coordinate_id='longitude', coordinate_unit='degrees_east', minimum_value=-18.125, maximum_value=36.32500076293945, step=0.05004595658358406, values=None, chunking_length=16, chunk_type=None, chunk_reference_coordinate=None, chunk_geometric_factor=None, axis='x')]), CopernicusMarineVariable(short_name='mask', standard_name=None, units='1', bbox=[-18.125, 30.125, 36.32500076293945, 46.025001525878906], coordinates=[CopernicusMarineCoordinate(coordinate_id='time', coordinate_unit='milliseconds since 1970-01-01 00:00:00Z (no leap seconds)', minimum_value=378691200000.0, maximum_value=1756166400000.0, step=86400000.0, values=None, chunking_length=3122, chunk_type=None, chunk_reference_coordinate=None, chunk_geometric_factor=None, axis='t'), CopernicusMarineCoordinate(coordinate_id='latitude', coordinate_unit='degrees_north', minimum_value=30.125, maximum_value=46.025001525878906, step=0.05015773352012273, values=None, chunking_length=16, chunk_type=None, chunk_reference_coordinate=None, chunk_geometric_factor=None, axis='y'), CopernicusMarineCoordinate(coordinate_id='longitude', coordinate_unit='degrees_east', minimum_value=-18.125, maximum_value=36.32500076293945, step=0.05004595658358406, values=None, chunking_length=16, chunk_type=None, chunk_reference_coordinate=None, chunk_geometric_factor=None, axis='x')]), CopernicusMarineVariable(short_name='sea_ice_fraction', standard_name='sea_ice_area_fraction', units='1', bbox=[-18.125, 30.125, 36.32500076293945, 46.025001525878906], coordinates=[CopernicusMarineCoordinate(coordinate_id='time', coordinate_unit='milliseconds since 1970-01-01 00:00:00Z (no leap seconds)', minimum_value=378691200000.0, maximum_value=1756166400000.0, step=86400000.0, values=None, chunking_length=3122, chunk_type=None, chunk_reference_coordinate=None, chunk_geometric_factor=None, axis='t'), CopernicusMarineCoordinate(coordinate_id='latitude', coordinate_unit='degrees_north', minimum_value=30.125, maximum_value=46.025001525878906, step=0.05015773352012273, values=None, chunking_length=16, chunk_type=None, chunk_reference_coordinate=None, chunk_geometric_factor=None, axis='y'), CopernicusMarineCoordinate(coordinate_id='longitude', coordinate_unit='degrees_east', minimum_value=-18.125, maximum_value=36.32500076293945, step=0.05004595658358406, values=None, chunking_length=16, chunk_type=None, chunk_reference_coordinate=None, chunk_geometric_factor=None, axis='x')])], platforms_metadata=None)], retired_date=None, released_date='2024-11-26T13:00:00.000Z', arco_updating_start_date=None, arco_updated_date='2025-09-25T08:13:32.800Z', url_metadata='https://s3.waw3-1.cloudferro.com/mdl-metadata/metadata/SST_MED_SST_L4_REP_OBSERVATIONS_010_021/cmems_SST_MED_SST_L4_REP_OBSERVATIONS_010_021_202411/dataset.stac.json')])])])]\n"
     ]
    },
    {
     "name": "stderr",
     "output_type": "stream",
     "text": [
      "Fetching catalogue 1: 100%|██████████| 2/2 [00:00<00:00,  2.75it/s]"
     ]
    },
    {
     "name": "stdout",
     "output_type": "stream",
     "text": [
      "products=[CopernicusMarineProduct(title='Mediterranean Sea Physics Reanalysis', product_id='MEDSEA_MULTIYEAR_PHY_006_004', thumbnail_url='https://mdl-metadata.s3.waw3-1.cloudferro.com/metadata/thumbnails/MEDSEA_MULTIYEAR_PHY_006_004.jpg', description='The Med MFC physical multiyear product is generated by a numerical system composed of an hydrodynamic model, supplied by the Nucleous for European Modelling of the Ocean (NEMO) and a variational data assimilation scheme (OceanVAR) for temperature and salinity vertical profiles and satellite Sea Level Anomaly along track data. It contains a reanalysis dataset and an interim dataset which covers the period after the reanalysis until 1 month before present. The model horizontal grid resolution is 1/24˚ (ca. 4-5 km) and the unevenly spaced vertical levels are 141. \\n\\n_DOI (Product)_: https://doi.org/10.25423/CMCC/MEDSEA_MULTIYEAR_PHY_006_004_E3R1\\n\\n_DOI (Interim dataset)_:\\nhttps://doi.org/10.25423/CMCC/MEDSEA_MULTIYEAR_PHY_006_004_E3R1I\\n\\n**References:**\\n\\n* Escudier, R., Clementi, E., Omar, M., Cipollone, A., Pistoia, J., Aydogdu, A., Drudi, M., Grandi, A., Lyubartsev, V., Lecci, R., Cretí, S., Masina, S., Coppini, G., & Pinardi, N. (2020). Mediterranean Sea Physical Reanalysis (CMEMS MED-Currents) (Version 1) [Data set]. Copernicus Monitoring Environment Marine Service (CMEMS). https://doi.org/10.25423/CMCC/MEDSEA_MULTIYEAR_PHY_006_004_E3R1\\n* Escudier, R., Clementi, E., Cipollone, A., Pistoia, J., Drudi, M., Grandi, A., Lyubartsev, V., Lecci, R., Aydogdu, A., Delrosso, D., Omar, M., Masina, S., Coppini G., Pinardi, N. (2021). A High Resolution Reanalysis for the Mediterranean Sea. Frontiers in Earth Science, 9, 1060, https://www.frontiersin.org/article/10.3389/feart.2021.702285, DOI=10.3389/feart.2021.702285\\n* Nigam, T., Escudier, R., Pistoia, J., Aydogdu, A., Omar, M., Clementi, E., Cipollone, A., Drudi, M., Grandi, A., Mariani, A., Lyubartsev, V., Lecci, R., Cretí, S., Masina, S., Coppini, G., & Pinardi, N. (2021). Mediterranean Sea Physical Reanalysis INTERIM (CMEMS MED-Currents, E3R1i system) (Version 1) [Data set]. Copernicus Monitoring Environment Marine Service (CMEMS). https://doi.org/10.25423/CMCC/MEDSEA_MULTIYEAR_PHY_006_004_E3R1I\\n', digital_object_identifier='10.25423/CMCC/MEDSEA_MULTIYEAR_PHY_006_004_E3R1', sources=['Numerical models'], processing_level='Level 4', production_center='CMCC (Italy)', keywords=['oceanographic-geographical-features', 'numerical-model', 'northward-sea-water-velocity', 'eastward-sea-water-velocity', 'sea-water-potential-temperature-at-sea-floor', 'ocean-mixed-layer-thickness-defined-by-sigma-theta', 'sea-water-potential-temperature', 'sea-water-salinity', 'sea-surface-height-above-geoid', 'model-level-number-at-sea-floor', 'sea-floor-depth-below-geoid', 'cell-thickness', 'surface-downward-x-stress', 'surface-downward-y-stress', 'surface-water-evaporation-flux', 'water-flux-into-sea-water-from-rivers', 'precipitation-flux', 'surface-downward-heat-flux-in-sea-water', 'net-downward-shortwave-flux-at-sea-water-surface', 'surface-net-downward-longwave-flux', 'surface-downward-sensible-heat-flux', 'surface-downward-latent-heat-flux', 'multi-year', 'coastal-marine-environment', 'marine-safety', 'weather-climate-and-seasonal-forecasting', 'marine-resources', 'mediterranean-sea', 'level-4', 'in-situ-ts-profiles', 'sst', 'sea-level'], datasets=[CopernicusMarineDataset(dataset_id='med-cmcc-tem-rean-d', dataset_name='Potential Temperature (3D) - Daily Mean', digital_object_identifier='10.25423/CMCC/MEDSEA_MULTIYEAR_PHY_006_004_E3R1', versions=[CopernicusMarineVersion(label='202012', parts=[CopernicusMarinePart(name='default', services=[CopernicusMarineService(service_name='original-files', service_short_name='files', service_format=None, uri='https://s3.waw3-1.cloudferro.com/mdl-native-12/native/MEDSEA_MULTIYEAR_PHY_006_004/med-cmcc-tem-rean-d_202012', variables=[CopernicusMarineVariable(short_name='bottomT', standard_name='sea_water_potential_temperature_at_sea_floor', units='degrees_C', bbox=[-6.0, 30.1875, 36.29166793823242, 45.97916793823242], coordinates=[]), CopernicusMarineVariable(short_name='thetao', standard_name='sea_water_potential_temperature', units='degrees_C', bbox=[-6.0, 30.1875, 36.29166793823242, 45.97916793823242], coordinates=[])], platforms_metadata=None), CopernicusMarineService(service_name='wmts', service_short_name='wmts', service_format=None, uri='https://wmts.marine.copernicus.eu/teroWmts/MEDSEA_MULTIYEAR_PHY_006_004/med-cmcc-tem-rean-d_202012?service=WMTS&request=GetCapabilities', variables=[CopernicusMarineVariable(short_name='bottomT', standard_name='sea_water_potential_temperature_at_sea_floor', units='degrees_C', bbox=[-6.0, 30.1875, 36.29166793823242, 45.97916793823242], coordinates=[]), CopernicusMarineVariable(short_name='thetao', standard_name='sea_water_potential_temperature', units='degrees_C', bbox=[-6.0, 30.1875, 36.29166793823242, 45.97916793823242], coordinates=[])], platforms_metadata=None), CopernicusMarineService(service_name='arco-geo-series', service_short_name='geoseries', service_format='zarr', uri='https://s3.waw3-1.cloudferro.com/mdl-arco-time-036/arco/MEDSEA_MULTIYEAR_PHY_006_004/med-cmcc-tem-rean-d_202012/timeChunked.zarr', variables=[CopernicusMarineVariable(short_name='bottomT', standard_name='sea_water_potential_temperature_at_sea_floor', units='degrees_C', bbox=[-6.0, 30.1875, 36.29166793823242, 45.97916793823242], coordinates=[CopernicusMarineCoordinate(coordinate_id='time', coordinate_unit='milliseconds since 1970-01-01 00:00:00Z (no leap seconds)', minimum_value=536457600000.0, maximum_value=1685491200000.0, step=86400000.0, values=None, chunking_length=2, chunk_type=None, chunk_reference_coordinate=None, chunk_geometric_factor=None, axis='t'), CopernicusMarineCoordinate(coordinate_id='latitude', coordinate_unit='degrees_north', minimum_value=30.1875, maximum_value=45.97916793823242, step=0.04166667002172143, values=None, chunking_length=380, chunk_type=None, chunk_reference_coordinate=None, chunk_geometric_factor=None, axis='y'), CopernicusMarineCoordinate(coordinate_id='longitude', coordinate_unit='degrees_east', minimum_value=-6.0, maximum_value=36.29166793823242, step=0.04166666791944081, values=None, chunking_length=1016, chunk_type=None, chunk_reference_coordinate=None, chunk_geometric_factor=None, axis='x')]), CopernicusMarineVariable(short_name='thetao', standard_name='sea_water_potential_temperature', units='degrees_C', bbox=[-6.0, 30.1875, 36.29166793823242, 45.97916793823242], coordinates=[CopernicusMarineCoordinate(coordinate_id='time', coordinate_unit='milliseconds since 1970-01-01 00:00:00Z (no leap seconds)', minimum_value=536457600000.0, maximum_value=1685491200000.0, step=86400000.0, values=None, chunking_length=2, chunk_type=None, chunk_reference_coordinate=None, chunk_geometric_factor=None, axis='t'), CopernicusMarineCoordinate(coordinate_id='latitude', coordinate_unit='degrees_north', minimum_value=30.1875, maximum_value=45.97916793823242, step=0.04166667002172143, values=None, chunking_length=380, chunk_type=None, chunk_reference_coordinate=None, chunk_geometric_factor=None, axis='y'), CopernicusMarineCoordinate(coordinate_id='longitude', coordinate_unit='degrees_east', minimum_value=-6.0, maximum_value=36.29166793823242, step=0.04166666791944081, values=None, chunking_length=1016, chunk_type=None, chunk_reference_coordinate=None, chunk_geometric_factor=None, axis='x'), CopernicusMarineCoordinate(coordinate_id='depth', coordinate_unit='m', minimum_value=None, maximum_value=None, step=None, values=[5754.0439453125, 5646.19921875, 5539.33349609375, 5433.4609375, 5328.59375, 5224.74462890625, 5121.92578125, 5020.1494140625, 4919.42724609375, 4819.77099609375, 4721.19140625, 4623.69873046875, 4527.30419921875, 4432.017578125, 4337.84765625, 4244.80419921875, 4152.89599609375, 4062.13037109375, 3972.51611328125, 3884.0595703125, 3796.76806640625, 3710.6474609375, 3625.703857421875, 3541.94189453125, 3459.3662109375, 3377.9814453125, 3297.790283203125, 3218.796142578125, 3141.00146484375, 3064.407470703125, 2989.015869140625, 2914.826904296875, 2841.8408203125, 2770.056640625, 2699.4736328125, 2630.08984375, 2561.903076171875, 2494.91015625, 2429.107666015625, 2364.49169921875, 2301.0576171875, 2238.80029296875, 2177.714111328125, 2117.79248046875, 2059.029052734375, 2001.4166259765625, 1944.9471435546875, 1889.6126708984375, 1835.404541015625, 1782.3135986328125, 1730.330322265625, 1679.44482421875, 1629.6466064453125, 1580.9251708984375, 1533.2694091796875, 1486.6678466796875, 1441.108642578125, 1396.5799560546875, 1353.0693359375, 1310.564208984375, 1269.0517578125, 1228.518798828125, 1188.9521484375, 1150.33837890625, 1112.6636962890625, 1075.914306640625, 1040.0762939453125, 1005.135498046875, 971.077880859375, 937.8890991210938, 905.5548095703125, 874.0606689453125, 843.3921508789062, 813.5348510742188, 784.4743041992188, 756.196044921875, 728.6856079101562, 701.9286499023438, 675.9107055664062, 650.6175537109375, 626.034912109375, 602.1486206054688, 578.944580078125, 556.4088745117188, 534.527587890625, 513.2869873046875, 492.6734619140625, 472.6734924316406, 453.2737731933594, 434.4610595703125, 416.2223205566406, 398.5447082519531, 381.4154357910156, 364.82196044921875, 348.751953125, 333.1931457519531, 318.133544921875, 303.5613098144531, 289.46478271484375, 275.83251953125, 262.6532287597656, 249.9158477783203, 237.60946655273438, 225.72340393066406, 214.24716186523438, 203.17044067382812, 192.48313903808594, 182.17535400390625, 172.2373504638672, 162.6596221923828, 153.43284606933594, 144.5478973388672, 135.9958038330078, 127.76783752441406, 119.85543060302734, 112.25020599365234, 104.94397735595703, 97.92872619628906, 91.1966323852539, 84.74004364013672, 78.55149841308594, 72.62368774414062, 66.94949340820312, 61.52195739746094, 56.334285736083984, 51.379859924316406, 46.6522102355957, 42.14503860473633, 37.85219192504883, 33.76767349243164, 29.885643005371094, 26.20039939880371, 22.706392288208008, 19.398210525512695, 16.270586013793945, 13.318384170532227, 10.536603927612305, 7.920377254486084, 5.464963436126709, 3.1657474040985107, 1.0182366371154785], chunking_length=1, chunk_type=None, chunk_reference_coordinate=None, chunk_geometric_factor=None, axis='z')])], platforms_metadata=None), CopernicusMarineService(service_name='arco-time-series', service_short_name='timeseries', service_format='zarr', uri='https://s3.waw3-1.cloudferro.com/mdl-arco-geo-036/arco/MEDSEA_MULTIYEAR_PHY_006_004/med-cmcc-tem-rean-d_202012/geoChunked.zarr', variables=[CopernicusMarineVariable(short_name='bottomT', standard_name='sea_water_potential_temperature_at_sea_floor', units='degrees_C', bbox=[-6.0, 30.1875, 36.29166793823242, 45.97916793823242], coordinates=[CopernicusMarineCoordinate(coordinate_id='time', coordinate_unit='milliseconds since 1970-01-01 00:00:00Z (no leap seconds)', minimum_value=536457600000.0, maximum_value=1685491200000.0, step=86400000.0, values=None, chunking_length=2520, chunk_type=None, chunk_reference_coordinate=None, chunk_geometric_factor=None, axis='t'), CopernicusMarineCoordinate(coordinate_id='latitude', coordinate_unit='degrees_north', minimum_value=30.1875, maximum_value=45.97916793823242, step=0.04166667002172143, values=None, chunking_length=16, chunk_type=None, chunk_reference_coordinate=None, chunk_geometric_factor=None, axis='y'), CopernicusMarineCoordinate(coordinate_id='longitude', coordinate_unit='degrees_east', minimum_value=-6.0, maximum_value=36.29166793823242, step=0.04166666791944081, values=None, chunking_length=16, chunk_type=None, chunk_reference_coordinate=None, chunk_geometric_factor=None, axis='x')]), CopernicusMarineVariable(short_name='thetao', standard_name='sea_water_potential_temperature', units='degrees_C', bbox=[-6.0, 30.1875, 36.29166793823242, 45.97916793823242], coordinates=[CopernicusMarineCoordinate(coordinate_id='time', coordinate_unit='milliseconds since 1970-01-01 00:00:00Z (no leap seconds)', minimum_value=536457600000.0, maximum_value=1685491200000.0, step=86400000.0, values=None, chunking_length=2520, chunk_type=None, chunk_reference_coordinate=None, chunk_geometric_factor=None, axis='t'), CopernicusMarineCoordinate(coordinate_id='latitude', coordinate_unit='degrees_north', minimum_value=30.1875, maximum_value=45.97916793823242, step=0.04166667002172143, values=None, chunking_length=16, chunk_type=None, chunk_reference_coordinate=None, chunk_geometric_factor=None, axis='y'), CopernicusMarineCoordinate(coordinate_id='longitude', coordinate_unit='degrees_east', minimum_value=-6.0, maximum_value=36.29166793823242, step=0.04166666791944081, values=None, chunking_length=16, chunk_type=None, chunk_reference_coordinate=None, chunk_geometric_factor=None, axis='x'), CopernicusMarineCoordinate(coordinate_id='depth', coordinate_unit='m', minimum_value=None, maximum_value=None, step=None, values=[5754.0439453125, 5646.19921875, 5539.33349609375, 5433.4609375, 5328.59375, 5224.74462890625, 5121.92578125, 5020.1494140625, 4919.42724609375, 4819.77099609375, 4721.19140625, 4623.69873046875, 4527.30419921875, 4432.017578125, 4337.84765625, 4244.80419921875, 4152.89599609375, 4062.13037109375, 3972.51611328125, 3884.0595703125, 3796.76806640625, 3710.6474609375, 3625.703857421875, 3541.94189453125, 3459.3662109375, 3377.9814453125, 3297.790283203125, 3218.796142578125, 3141.00146484375, 3064.407470703125, 2989.015869140625, 2914.826904296875, 2841.8408203125, 2770.056640625, 2699.4736328125, 2630.08984375, 2561.903076171875, 2494.91015625, 2429.107666015625, 2364.49169921875, 2301.0576171875, 2238.80029296875, 2177.714111328125, 2117.79248046875, 2059.029052734375, 2001.4166259765625, 1944.9471435546875, 1889.6126708984375, 1835.404541015625, 1782.3135986328125, 1730.330322265625, 1679.44482421875, 1629.6466064453125, 1580.9251708984375, 1533.2694091796875, 1486.6678466796875, 1441.108642578125, 1396.5799560546875, 1353.0693359375, 1310.564208984375, 1269.0517578125, 1228.518798828125, 1188.9521484375, 1150.33837890625, 1112.6636962890625, 1075.914306640625, 1040.0762939453125, 1005.135498046875, 971.077880859375, 937.8890991210938, 905.5548095703125, 874.0606689453125, 843.3921508789062, 813.5348510742188, 784.4743041992188, 756.196044921875, 728.6856079101562, 701.9286499023438, 675.9107055664062, 650.6175537109375, 626.034912109375, 602.1486206054688, 578.944580078125, 556.4088745117188, 534.527587890625, 513.2869873046875, 492.6734619140625, 472.6734924316406, 453.2737731933594, 434.4610595703125, 416.2223205566406, 398.5447082519531, 381.4154357910156, 364.82196044921875, 348.751953125, 333.1931457519531, 318.133544921875, 303.5613098144531, 289.46478271484375, 275.83251953125, 262.6532287597656, 249.9158477783203, 237.60946655273438, 225.72340393066406, 214.24716186523438, 203.17044067382812, 192.48313903808594, 182.17535400390625, 172.2373504638672, 162.6596221923828, 153.43284606933594, 144.5478973388672, 135.9958038330078, 127.76783752441406, 119.85543060302734, 112.25020599365234, 104.94397735595703, 97.92872619628906, 91.1966323852539, 84.74004364013672, 78.55149841308594, 72.62368774414062, 66.94949340820312, 61.52195739746094, 56.334285736083984, 51.379859924316406, 46.6522102355957, 42.14503860473633, 37.85219192504883, 33.76767349243164, 29.885643005371094, 26.20039939880371, 22.706392288208008, 19.398210525512695, 16.270586013793945, 13.318384170532227, 10.536603927612305, 7.920377254486084, 5.464963436126709, 3.1657474040985107, 1.0182366371154785], chunking_length=1, chunk_type=None, chunk_reference_coordinate=None, chunk_geometric_factor=None, axis='z')])], platforms_metadata=None)], retired_date=None, released_date=None, arco_updating_start_date=None, arco_updated_date=None, url_metadata='https://s3.waw3-1.cloudferro.com/mdl-metadata/metadata/MEDSEA_MULTIYEAR_PHY_006_004/med-cmcc-tem-rean-d_202012/dataset.stac.json')])])])]\n"
     ]
    },
    {
     "name": "stderr",
     "output_type": "stream",
     "text": [
      "\n"
     ]
    }
   ],
   "source": [
    "# Describe REP\n",
    "de = copernicusmarine.describe(dataset_id=\"cmems_SST_MED_SST_L4_REP_OBSERVATIONS_010_021\")\n",
    "print(de)\n",
    "\n",
    "# Describe MEDREA\n",
    "de = copernicusmarine.describe(dataset_id=\"med-cmcc-tem-rean-d\")\n",
    "print(de)"
   ]
  },
  {
   "cell_type": "markdown",
   "id": "427045d6",
   "metadata": {},
   "source": [
    "## Download REP"
   ]
  },
  {
   "cell_type": "code",
   "execution_count": 7,
   "id": "52867232",
   "metadata": {},
   "outputs": [
    {
     "name": "stdout",
     "output_type": "stream",
     "text": [
      "Created dir ../Data/REP/MEDITERRANEAN/SST-L4-REP-HR/DATA-NEW/DAILY/1982.\n",
      "Downloading REP during 1982-1-01 to 1982-1-31.\n"
     ]
    },
    {
     "name": "stderr",
     "output_type": "stream",
     "text": [
      "INFO - 2025-09-26T07:51:46Z - Selected dataset version: \"202411\"\n",
      "INFO - 2025-09-26T07:51:46Z - Selected dataset part: \"default\"\n",
      "INFO - 2025-09-26T07:51:51Z - Starting download. Please wait...\n",
      "INFO - 2025-09-26T07:51:55Z - Successfully downloaded to ../Data/REP/MEDITERRANEAN/SST-L4-REP-HR/DATA-NEW/DAILY/1982/SST_MED_SST_L4_REP_OBSERVATIONS_010_021_y1982m01.nc\n"
     ]
    },
    {
     "name": "stdout",
     "output_type": "stream",
     "text": [
      " -> Saved to ../Data/REP/MEDITERRANEAN/SST-L4-REP-HR/DATA-NEW/DAILY/1982/SST_MED_SST_L4_REP_OBSERVATIONS_010_021_y1982m01.nc.\n",
      "\n"
     ]
    }
   ],
   "source": [
    "from calendar import monthrange\n",
    "\n",
    "for year in range(1982, 2024):\n",
    "    for month in range(1, 13):\n",
    "        path = rep_pattern.format(year=year, monthstr=f\"{month:02d}\")\n",
    "        dir = os.path.dirname(path)\n",
    "        \n",
    "        if not os.path.exists(dir):\n",
    "            os.makedirs(dir)\n",
    "            print(f\"Created dir {dir}.\")\n",
    "        \n",
    "        print(f\"Downloading REP during {year}-{month}-01 to {year}-{month}-{monthrange(year, month)[1]}.\")\n",
    "        \n",
    "        copernicusmarine.subset(\n",
    "            dataset_id = \"cmems_SST_MED_SST_L4_REP_OBSERVATIONS_010_021\",\n",
    "            variables = [\"analysed_sst\"],\n",
    "            output_filename = path,\n",
    "\n",
    "            start_datetime = f\"{year}-{month}-01T00:00:00\",\n",
    "            end_datetime = f\"{year}-{month}-{monthrange(year, month)[1]}T23:00:00\",\n",
    "\n",
    "            **spatial_extent,\n",
    "            **credentials\n",
    "        )\n",
    "\n",
    "        print(f\" -> Saved to {path}.\")\n",
    "        print()"
   ]
  },
  {
   "cell_type": "markdown",
   "id": "312a3445",
   "metadata": {},
   "source": [
    "## Download MEDREA"
   ]
  },
  {
   "cell_type": "code",
   "execution_count": 8,
   "id": "de9a75fb",
   "metadata": {},
   "outputs": [
    {
     "name": "stdout",
     "output_type": "stream",
     "text": [
      "Created dir ../Data/MEDREA/MEDITERRANEAN/REANALYSIS/DATA/DAILY/BalearicIslands/1987.\n",
      "Downloading MEDREA during 1987-1-01 to 1987-1-31.\n"
     ]
    },
    {
     "name": "stderr",
     "output_type": "stream",
     "text": [
      "INFO - 2025-09-26T07:52:00Z - Selected dataset version: \"202012\"\n",
      "INFO - 2025-09-26T07:52:00Z - Selected dataset part: \"default\"\n",
      "WARNING - 2025-09-26T07:52:00Z - Some of your subset selection [0, 3000] for the depth dimension exceed the dataset coordinates [1.0182366371154785, 5754.0439453125]\n",
      "INFO - 2025-09-26T07:52:02Z - Starting download. Please wait...\n",
      "100%|██████████| 352/352 [00:47<00:00,  7.43it/s]\n",
      "INFO - 2025-09-26T07:52:50Z - Successfully downloaded to ../Data/MEDREA/MEDITERRANEAN/REANALYSIS/DATA/DAILY/BalearicIslands/1987/TEMP_MEDSEA_MULTIYEAR_PHY_006_004_y1987m01_BalearicIslands.nc\n"
     ]
    },
    {
     "name": "stdout",
     "output_type": "stream",
     "text": [
      " -> Saved to ../Data/MEDREA/MEDITERRANEAN/REANALYSIS/DATA/DAILY/BalearicIslands/1987/TEMP_MEDSEA_MULTIYEAR_PHY_006_004_y1987m01_BalearicIslands.nc.\n",
      "\n"
     ]
    }
   ],
   "source": [
    "from calendar import monthrange\n",
    "\n",
    "for year in range(1987, 2023):\n",
    "    for month in range(1, 13):\n",
    "        path = medrea_pattern.format(year=year, monthstr=f\"{month:02d}\")\n",
    "        dir = os.path.dirname(path)\n",
    "        \n",
    "        if not os.path.exists(dir):\n",
    "            os.makedirs(dir)\n",
    "            print(f\"Created dir {dir}.\")\n",
    "        \n",
    "        print(f\"Downloading MEDREA during {year}-{month}-01 to {year}-{month}-{monthrange(year, month)[1]}.\")\n",
    "        \n",
    "        copernicusmarine.subset(\n",
    "            dataset_id = \"med-cmcc-tem-rean-d\",\n",
    "            variables = [\"thetao\"],\n",
    "            output_filename = path,\n",
    "\n",
    "            start_datetime = f\"{year}-{month}-01T00:00:00\",\n",
    "            end_datetime = f\"{year}-{month}-{monthrange(year, month)[1]}T23:00:00\",\n",
    "\n",
    "            **spatial_extent,\n",
    "            **credentials\n",
    "        )\n",
    "\n",
    "        print(f\" -> Saved to {path}.\")\n",
    "        print()"
   ]
  },
  {
   "cell_type": "code",
   "execution_count": 9,
   "id": "808b58b0",
   "metadata": {},
   "outputs": [
    {
     "name": "stdout",
     "output_type": "stream",
     "text": [
      "Created dir ../Data/bathymetry.\n"
     ]
    },
    {
     "name": "stderr",
     "output_type": "stream",
     "text": [
      "INFO - 2025-09-26T07:52:51Z - Selected dataset version: \"202211\"\n",
      "INFO - 2025-09-26T07:52:51Z - Selected dataset part: \"bathy\"\n",
      "WARNING - 2025-09-26T07:52:51Z - Some of your subset selection [0, 3000] for the depth dimension exceed the dataset coordinates [1.0182366371154785, 5754.0439453125]\n",
      "INFO - 2025-09-26T07:52:52Z - Starting download. Please wait...\n",
      "INFO - 2025-09-26T07:52:53Z - Successfully downloaded to ../Data/bathymetry/Bathymetry_MEDREA_006_004_mask_bathy_BalearicIslands.nc\n"
     ]
    },
    {
     "name": "stdout",
     "output_type": "stream",
     "text": [
      " -> Saved to ../Data/bathymetry/Bathymetry_MEDREA_006_004_mask_bathy_BalearicIslands.nc.\n"
     ]
    }
   ],
   "source": [
    "path = medrea_bathy_path\n",
    "dir = os.path.dirname(path)\n",
    "\n",
    "if not os.path.exists(dir):\n",
    "    os.makedirs(dir)\n",
    "    print(f\"Created dir {dir}.\")\n",
    "\n",
    "copernicusmarine.subset(\n",
    "    dataset_id = \"cmems_mod_med_phy_my_4.2km_static\",\n",
    "    variables = [\"deptho\"],\n",
    "    output_filename = path,\n",
    "\n",
    "    **spatial_extent,\n",
    "    **credentials\n",
    ")\n",
    "\n",
    "print(f\" -> Saved to {path}.\")"
   ]
  }
 ],
 "metadata": {
  "kernelspec": {
   "display_name": "Python 3",
   "language": "python",
   "name": "python3"
  },
  "language_info": {
   "codemirror_mode": {
    "name": "ipython",
    "version": 3
   },
   "file_extension": ".py",
   "mimetype": "text/x-python",
   "name": "python",
   "nbconvert_exporter": "python",
   "pygments_lexer": "ipython3",
   "version": "3.10.12"
  }
 },
 "nbformat": 4,
 "nbformat_minor": 5
}
