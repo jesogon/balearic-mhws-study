{
 "cells": [
  {
   "cell_type": "markdown",
   "metadata": {},
   "source": [
    "# <h1 style=\"text-align: center;\"> Checking packages notebook </h1>"
   ]
  },
  {
   "cell_type": "markdown",
   "metadata": {},
   "source": [
    "This Python notebooks is supposed to help the Python environment setup."
   ]
  },
  {
   "cell_type": "markdown",
   "metadata": {},
   "source": [
    "## Install packages with pip"
   ]
  },
  {
   "cell_type": "markdown",
   "metadata": {},
   "source": [
    "Run this command to install all the required packages for the present code."
   ]
  },
  {
   "cell_type": "code",
   "execution_count": null,
   "metadata": {},
   "outputs": [],
   "source": [
    "%pip install numpy xarray dask"
   ]
  },
  {
   "cell_type": "code",
   "execution_count": null,
   "metadata": {},
   "outputs": [],
   "source": [
    "%pip install matplotlib pymannkendall geopy shapely cmocean cartopy roman"
   ]
  },
  {
   "cell_type": "code",
   "execution_count": null,
   "metadata": {},
   "outputs": [],
   "source": [
    "%pip install copernicusmarine"
   ]
  },
  {
   "cell_type": "markdown",
   "metadata": {},
   "source": [
    "## Check packages versions"
   ]
  },
  {
   "cell_type": "markdown",
   "metadata": {},
   "source": [
    "If any issue is encountered, checking the versions of the packages used could help in the solving process."
   ]
  },
  {
   "cell_type": "code",
   "execution_count": 3,
   "metadata": {},
   "outputs": [
    {
     "name": "stdout",
     "output_type": "stream",
     "text": [
      "Gives versions for Python interpreter and packages in the current environment.\n",
      "Versions in parenthesis like (~1.26.4) are the versions used during developement for reference.\n",
      "\n",
      "Python version: 3.10.12 (~3.10.12)\n",
      "\n",
      "Packages versions:\n",
      " - matplotlib: 3.10.1 (~3.10.1)\n",
      " - numpy: 1.26.4 (~1.26.4)\n",
      " - xarray: 2024.2.0 (~2024.2.0)\n",
      " - dask: 2025.3.0 (~2025.3.0)\n",
      " - cartopy: 0.24.1 (~0.24.1)\n",
      " - cmocean: v3.0.3 (~v3.0.3)\n",
      " - pymannkendall: 1.4.3 (~1.4.3)\n",
      " - geopy: 2.4.1 (~2.4.1)\n",
      " - shapely: 2.1.0 (~2.1.0)\n"
     ]
    }
   ],
   "source": [
    "import sys\n",
    "import importlib\n",
    "\n",
    "# All the packages used there, followed by the version used during development\n",
    "packages = [\n",
    "    (\"matplotlib\", \"3.10.1\"),\n",
    "    (\"numpy\", \"1.26.4\"),\n",
    "    (\"xarray\", \"2024.2.0\"),\n",
    "    (\"dask\", \"2025.3.0\"),\n",
    "    (\"cartopy\", \"0.24.1\"),\n",
    "    (\"cmocean\", \"v3.0.3\"),\n",
    "    (\"pymannkendall\", \"1.4.3\"),\n",
    "    (\"geopy\", \"2.4.1\"),\n",
    "    (\"shapely\", \"2.1.0\"),\n",
    "]\n",
    "\n",
    "# Some printing to decorate the prompt\n",
    "print(\"Gives versions for Python interpreter and packages in the current environment.\")\n",
    "print(\"Versions in parenthesis like (~1.26.4) are the versions used during developement for reference.\")\n",
    "print()\n",
    "print(f\"Python version: {'.'.join(map(str, sys.version_info[:3]))} (~3.10.12)\")\n",
    "print()\n",
    "print(\"Packages versions:\")\n",
    "\n",
    "# Print each package versions\n",
    "for package_name, dev_version in packages:\n",
    "    try:\n",
    "        # If the package is installed, print its version\n",
    "        module = importlib.import_module(package_name)\n",
    "        print(f\" - {package_name}: {module.__version__} (~{dev_version})\")\n",
    "    \n",
    "    except:\n",
    "        # If the package is not installed, print it\n",
    "        print(f\" - {package_name}: not installed (~{dev_version})\")"
   ]
  }
 ],
 "metadata": {
  "kernelspec": {
   "display_name": "Python 3",
   "language": "python",
   "name": "python3"
  },
  "language_info": {
   "codemirror_mode": {
    "name": "ipython",
    "version": 3
   },
   "file_extension": ".py",
   "mimetype": "text/x-python",
   "name": "python",
   "nbconvert_exporter": "python",
   "pygments_lexer": "ipython3",
   "version": "3.10.12"
  }
 },
 "nbformat": 4,
 "nbformat_minor": 2
}
